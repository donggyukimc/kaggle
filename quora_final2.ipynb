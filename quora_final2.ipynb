{
  "cells": [
    {
      "metadata": {
        "_uuid": "6f5ea96dfcc682c232d6cbb6cebd8b48ecabf8fe"
      },
      "cell_type": "markdown",
      "source": "### Preface\n\nHello . This is basically cutting and pasting from the amazing kernels of this competition. Please notify me if I don't attribute something correctly.\n\n* https://www.kaggle.com/gmhost/gru-capsule\n* How to: Preprocessing when using embeddings\nhttps://www.kaggle.com/christofhenkel/how-to-preprocessing-when-using-embeddings\n* Improve your Score with some Text Preprocessing https://www.kaggle.com/theoviel/improve-your-score-with-some-text-preprocessing\n* Simple attention layer taken from https://github.com/mttk/rnn-classifier/blob/master/model.py\n* https://www.kaggle.com/ziliwang/baseline-pytorch-bilstm\n* https://www.kaggle.com/hengzheng/pytorch-starter\n\n**UPDATE**: I seems that the shuffling the data doesn't add the features in the correct order. To address this issue I added a custom dataset class that can return indexes so that they can be accessed while training and properly put each feature with the corresponding sample. The training time though is increased, so you might need to make the model lighter in order to submit results."
    },
    {
      "metadata": {
        "_uuid": "abb7e3c30b8a412a50c6b451c49939e3cf4bc11b",
        "scrolled": true,
        "trusted": true
      },
      "cell_type": "code",
      "source": "import time\nimport random\nimport pandas as pd\nimport numpy as np\nimport gc\nimport re\nimport torch\nfrom torchtext import data\nimport spacy\nfrom tqdm import tqdm_notebook, tnrange\nfrom tqdm.auto import tqdm\n\nimport warnings\nwarnings.filterwarnings('ignore')\n\ntqdm.pandas(desc='Progress')\nfrom collections import Counter\nfrom textblob import TextBlob\nfrom nltk import word_tokenize\n\nimport torch.nn as nn\nimport torch.optim as optim\nimport torch.nn.functional as F\nfrom torch.utils.data import Dataset, DataLoader\nfrom torch.nn.utils.rnn import pack_padded_sequence, pad_packed_sequence\nfrom torch.autograd import Variable\nfrom torchtext.data import Example\nfrom sklearn.metrics import f1_score\nimport torchtext\nimport os \n\nfrom keras.preprocessing.text import Tokenizer\nfrom keras.preprocessing.sequence import pad_sequences\n\n# cross validation and metrics\nfrom sklearn.model_selection import StratifiedKFold\nfrom sklearn.metrics import f1_score\nfrom torch.optim.optimizer import Optimizer\nfrom unidecode import unidecode",
      "execution_count": 1,
      "outputs": [
        {
          "output_type": "stream",
          "text": "Using TensorFlow backend.\n",
          "name": "stderr"
        }
      ]
    },
    {
      "metadata": {
        "_uuid": "deee49df5ca1c4413f71677939e26aa1ff784e44",
        "scrolled": true,
        "trusted": true
      },
      "cell_type": "code",
      "source": "embed_size = 300 # how big is each word vector\nmax_features = 120000 # how many unique words to use (i.e num rows in embedding vector)\nmaxlen = 70 # max number of words in a question to use\nbatch_size = 512 # how many samples to process at once\n\n#n_epochs = 5 # how many times to iterate over all samples\nn_epochs = 3 # how many times to iterate over all samples\n\nn_splits = 5 # Number of K-fold Splits\n\ndo_shuffle = True\n\nSEED = 1029\n\ndef seed_everything(seed=1029):\n    random.seed(seed)\n    os.environ['PYTHONHASHSEED'] = str(seed)\n    np.random.seed(seed)\n    torch.manual_seed(seed)\n    torch.cuda.manual_seed(seed)\n    torch.backends.cudnn.deterministic = True\n    \nseed_everything(SEED)",
      "execution_count": 2,
      "outputs": []
    },
    {
      "metadata": {
        "_uuid": "7026ee1d913f54dd4b560f654efdb9f833581cd3",
        "scrolled": true,
        "trusted": true
      },
      "cell_type": "code",
      "source": "## FUNCTIONS TAKEN FROM https://www.kaggle.com/gmhost/gru-capsule\n\ndef load_glove(word_index):\n    EMBEDDING_FILE = '../input/embeddings/glove.840B.300d/glove.840B.300d.txt'\n    def get_coefs(word,*arr): return word, np.asarray(arr, dtype='float32')[:300]\n    embeddings_index = dict(get_coefs(*o.split(\" \")) for o in open(EMBEDDING_FILE))\n    \n    all_embs = np.stack(embeddings_index.values())\n    emb_mean,emb_std = -0.005838499,0.48782197\n    embed_size = all_embs.shape[1]\n\n    # word_index = tokenizer.word_index\n    nb_words = min(max_features, len(word_index))\n    # Why random embedding for OOV? what if use mean?\n    embedding_matrix = np.random.normal(emb_mean, emb_std, (nb_words, embed_size))\n    #embedding_matrix = np.random.normal(emb_mean, 0, (nb_words, embed_size)) # std 0\n    \n    embed_count = np.zeros((nb_words, embed_size))\n    \n    for word, i in word_index.items():\n        if i >= max_features: continue\n        embedding_vector = embeddings_index.get(word)\n        if embedding_vector is not None: \n            embedding_matrix[i] = embedding_vector\n            embed_count[i] += 1\n            \n    return embedding_matrix#, embed_count\n    \ndef load_fasttext(word_index):    \n    EMBEDDING_FILE = '../input/embeddings/wiki-news-300d-1M/wiki-news-300d-1M.vec'\n    def get_coefs(word,*arr): return word, np.asarray(arr, dtype='float32')\n    embeddings_index = dict(get_coefs(*o.split(\" \")) for o in open(EMBEDDING_FILE) if len(o)>100)\n\n    all_embs = np.stack(embeddings_index.values())\n    emb_mean,emb_std = all_embs.mean(), all_embs.std()\n    embed_size = all_embs.shape[1]\n\n    # word_index = tokenizer.word_index\n    nb_words = min(max_features, len(word_index))\n    embedding_matrix = np.random.normal(emb_mean, emb_std, (nb_words, embed_size))\n    #embedding_matrix = np.random.normal(emb_mean, 0, (nb_words, embed_size))\n    \n    embed_count = np.zeros((nb_words, embed_size))\n    \n    for word, i in word_index.items():\n        if i >= max_features: continue\n        embedding_vector = embeddings_index.get(word)\n        if embedding_vector is not None: \n            embedding_matrix[i] = embedding_vector\n            embed_count[i] += 1\n            \n    return embedding_matrix#, embed_count\n\ndef load_para(word_index):\n    EMBEDDING_FILE = '../input/embeddings/paragram_300_sl999/paragram_300_sl999.txt'\n    def get_coefs(word,*arr): return word, np.asarray(arr, dtype='float32')\n    embeddings_index = dict(get_coefs(*o.split(\" \")) for o in open(EMBEDDING_FILE, encoding=\"utf8\", errors='ignore') if len(o)>100)\n\n    all_embs = np.stack(embeddings_index.values())\n    emb_mean,emb_std = -0.0053247833,0.49346462\n    embed_size = all_embs.shape[1]\n\n    # word_index = tokenizer.word_index\n    nb_words = min(max_features, len(word_index))\n    embedding_matrix = np.random.normal(emb_mean, emb_std, (nb_words, embed_size))\n    #embedding_matrix = np.random.normal(emb_mean, 0, (nb_words, embed_size))\n    \n    embed_count = np.zeros((nb_words, embed_size))\n    \n    for word, i in word_index.items():\n        if i >= max_features: continue\n        embedding_vector = embeddings_index.get(word)\n        if embedding_vector is not None: \n            embedding_matrix[i] = embedding_vector\n            embed_count[i] += 1\n            \n    return embedding_matrix#, embed_count",
      "execution_count": 3,
      "outputs": []
    },
    {
      "metadata": {
        "trusted": true,
        "_uuid": "ced0c2b17c914a8e00883fa05ad7ae1af84972d3"
      },
      "cell_type": "code",
      "source": "def build_vocab(texts):\n    sentences = texts.apply(lambda x: x.split()).values\n    vocab = {}\n    for sentence in sentences:\n        for word in sentence:\n            try:\n                vocab[word] += 1\n            except KeyError:\n                vocab[word] = 1\n    return vocab\n\ndef known_contractions(embed):\n    known = []\n    for contract in contraction_mapping:\n        if contract in embed:\n            known.append(contract)\n    return known\n\ndef clean_contractions(text, mapping):\n    specials = [\"’\", \"‘\", \"´\", \"`\"]\n    for s in specials:\n        text = text.replace(s, \"'\")\n    text = ' '.join([mapping[t] if t in mapping else t for t in text.split(\" \")])\n    return text\n\ndef correct_spelling(x, dic):\n    for word in dic.keys():\n        x = x.replace(word, dic[word])\n    return x\n\ndef unknown_punct(embed, punct):\n    unknown = ''\n    for p in punct:\n        if p not in embed:\n            unknown += p\n            unknown += ' '\n    return unknown\n\ndef clean_special_chars(text, punct, mapping):\n    for p in mapping:\n        text = text.replace(p, mapping[p])\n    \n    for p in punct:\n        text = text.replace(p, f' {p} ')\n    \n    specials = {'\\u200b': ' ', '…': ' ... ', '\\ufeff': '', 'करना': '', 'है': ''}  # Other special characters that I have to deal with in last\n    for s in specials:\n        text = text.replace(s, specials[s])\n    \n    return text\n\ndef add_lower(embedding, vocab):\n    count = 0\n    for word in vocab:\n        if word in embedding and word.lower() not in embedding:  \n            embedding[word.lower()] = embedding[word]\n            count += 1\n    print(f\"Added {count} words to embedding\")    \n    \npuncts = [',', '.', '\"', ':', ')', '(', '-', '!', '?', '|', ';', \"'\", '$', '&', '/', '[', ']', '>', '%', '=', '#', '*', '+', '\\\\', '•',  '~', '@', '£', \n '·', '_', '{', '}', '©', '^', '®', '`',  '<', '→', '°', '€', '™', '›',  '♥', '←', '×', '§', '″', '′', 'Â', '█', '½', 'à', '…', \n '“', '★', '”', '–', '●', 'â', '►', '−', '¢', '²', '¬', '░', '¶', '↑', '±', '¿', '▾', '═', '¦', '║', '―', '¥', '▓', '—', '‹', '─', \n '▒', '：', '¼', '⊕', '▼', '▪', '†', '■', '’', '▀', '¨', '▄', '♫', '☆', 'é', '¯', '♦', '¤', '▲', 'è', '¸', '¾', 'Ã', '⋅', '‘', '∞', \n '∙', '）', '↓', '、', '│', '（', '»', '，', '♪', '╩', '╚', '³', '・', '╦', '╣', '╔', '╗', '▬', '❤', 'ï', 'Ø', '¹', '≤', '‡', '√', ]\n\ndef clean_text(x):\n    x = str(x)\n    for punct in puncts:\n        x = x.replace(punct, f' {punct} ')\n    return x\n\ndef clean_numbers(x):\n    x = re.sub('[0-9]{5,}', '#####', x)\n    x = re.sub('[0-9]{4}', '####', x)\n    x = re.sub('[0-9]{3}', '###', x)\n    x = re.sub('[0-9]{2}', '##', x)\n    return x\n\nmispell_dict = {\"pusyy\":\"pussy\",\"wannacry\":\"ransomware\",\"hotstar\":\"hot star\",\"cryptocurreny\":\"bitcoin\",\"savegely\":\"savagely\",\"venuas\":\"venus\",\"mongorestore\":\"database restore\",\"cleanshot\":\"clean shot\",\"simlarity\":\"similarity\"\n                ,\"maintanable\":\"maintainable\",\"diffferently\":\"differently\",\"sinnister\":\"sinister\",\"orchestar\":\"orchestra\",\"surggery\":\"surgery\"\n                ,\"unwatermarking\":\"water marking\",\"perfeccionism\":\"perfectionism\",\"fortitide\":\"fortitude\",\"citycarclean\":\"city car clean\"\n                ,\"willhandjob\":\"will handjob\",\"billionsites\":\"billion site\",\"excitee\":\"excite\",\"ejacuate\":\"ejaculate\",\"ejectulate\":\"ejaculate\"\n                ,\"poilt\":\"pilot\",\"coinbase\":\"bitcoin\",\"oneplus\":\"additional one\",\"redmi\":\"smartphone\",\"uceed\":\"industrial design centre\"\n                ,\"gdpr\":\"general data protection regulation\",\"boruto\":\"naruto\",\"bnbr\":\"be nice be respectful\"\n                ,\"iiest\":\"institude of engineering of science and technology\"\n                ,\"zerodha\":\"stock trading\",\"undergraduation\":\"undergraduate\"\n                ,\"ncerts\":\"national council of educational research and training\",\"i´m\":\"i am\"\n                ,\"sklearn\":\"machine learning api\",\"nearbuy\":\"nearby\",\"testbook\":\"test book\",\"freebitco\":\"free bitcoin\"\n                ,\"gaslighter\":\"gas lighter\",\"crytocurrency\":\"bitcoin\",\"filecoin\":\"bitcoin\"\n                ,\"digibyte\":\"byte\",\"fullstack\":\"full stack\",\"what´s\":\"what is\",\"can´t\":\"can not\"\n                ,\"payumoney\":\"pay money\",\"cryptocoins\":\"bitcoin\",\"openload\":\"open load\",\"bytecoin\":\"bitcoin\",\"brexiting\":\"brexit\"\n                ,\"tutorialspoint\":\"tutorial\",\"econimics\":\"economy\",\"whatkind\":\"what kind\",\"whatsap\":\"what is up\",\"i´ve\":\"i have\"\n                ,\"deepweb\":\"deep web\",\"whatvis\":\"what is\",\"buyucoin\":\"buy bitcoin\",\"subjecs\":\"subject\",\"statergy\":\"strategy\",\"hongkongese\":\"hongkong\"\n                ,\"electrones\":\"electronic\",\"reconducted\":\"conduct again\",\"eroupian\":\"europian\",\"aeronutics\":\"aeronautics\", \"aeronatical\":\"aeronautical\"\n                , \"aeronauticalengineer\":\"aeronautical engineer\", \"aesexual\" : \"sexual\", \"aallowed\":\"allow\", \"aacount\" : \"acount\", \"uesing\" : \"using\"\n                , \"fireguns\" : \"fire gun\", \"freshersworld\" : \"fresh world\", \"germeny\" : \"germany\", \"topicwise\" : \"topic wise\", \"phsychic\" : \"psychic\"\n                , \"shechudle\" : \"schedule\", \"sutface\" : \"surface\", \"enjeenearing\" : \"engineering\", \"quickiest\" : \"quickest\", \"engineerer\" : \"engineer\"\n                , \"webassembly\" : \"web assembly\", \"bomblasts\" : \"bomb blasts\", \"withdrow\" : \"withdraw\", \"leasership\" : \"leadership\", \"whatwill\" : \"what will\"\n                , \"paralizing\" : \"paralyze\", \"breakimg\" : \"breaking\", \"thunderstike\" : \"thunder strike\", \"examinaton\" : \"examination\", \"ingredio\" : \"ingrediant\"\n                , \"commucated\" : \"communicated\", \"mnth\" : \"month\", \"shechudle\" : \"shechudle\", \"internationalizes\" : \"international\"\n                , \"supermaneuverable\" : \"super maneuverable\", \"ain't\": \"is not\", \"aren't\": \"are not\",\"can't\": \"cannot\", \"'cause\": \"because\", \"could've\": \"could have\", \"couldn't\": \"could not\", \"didn't\": \"did not\",  \"doesn't\": \"does not\", \"don't\": \"do not\", \"hadn't\": \"had not\", \"hasn't\": \"has not\", \"haven't\": \"have not\", \"he'd\": \"he would\",\"he'll\": \"he will\", \"he's\": \"he is\", \"how'd\": \"how did\", \"how'd'y\": \"how do you\", \"how'll\": \"how will\", \"how's\": \"how is\",  \"I'd\": \"I would\", \"I'd've\": \"I would have\", \"I'll\": \"I will\", \"I'll've\": \"I will have\",\"I'm\": \"I am\", \"I've\": \"I have\", \"i'd\": \"i would\", \"i'd've\": \"i would have\", \"i'll\": \"i will\",  \"i'll've\": \"i will have\",\"i'm\": \"i am\", \"i've\": \"i have\", \"isn't\": \"is not\", \"it'd\": \"it would\", \"it'd've\": \"it would have\", \"it'll\": \"it will\", \"it'll've\": \"it will have\",\"it's\": \"it is\", \"let's\": \"let us\", \"ma'am\": \"madam\", \"mayn't\": \"may not\", \"might've\": \"might have\",\"mightn't\": \"might not\",\"mightn't've\": \"might not have\", \"must've\": \"must have\", \"mustn't\": \"must not\", \"mustn't've\": \"must not have\", \"needn't\": \"need not\", \"needn't've\": \"need not have\",\"o'clock\": \"of the clock\", \"oughtn't\": \"ought not\", \"oughtn't've\": \"ought not have\", \"shan't\": \"shall not\", \"sha'n't\": \"shall not\", \"shan't've\": \"shall not have\", \"she'd\": \"she would\", \"she'd've\": \"she would have\", \"she'll\": \"she will\", \"she'll've\": \"she will have\", \"she's\": \"she is\", \"should've\": \"should have\", \"shouldn't\": \"should not\", \"shouldn't've\": \"should not have\", \"so've\": \"so have\",\"so's\": \"so as\", \"this's\": \"this is\",\"that'd\": \"that would\", \"that'd've\": \"that would have\", \"that's\": \"that is\", \"there'd\": \"there would\", \"there'd've\": \"there would have\", \"there's\": \"there is\", \"here's\": \"here is\",\"they'd\": \"they would\", \"they'd've\": \"they would have\", \"they'll\": \"they will\", \"they'll've\": \"they will have\", \"they're\": \"they are\", \"they've\": \"they have\", \"to've\": \"to have\", \"wasn't\": \"was not\", \"we'd\": \"we would\", \"we'd've\": \"we would have\", \"we'll\": \"we will\", \"we'll've\": \"we will have\", \"we're\": \"we are\", \"we've\": \"we have\", \"weren't\": \"were not\", \"what'll\": \"what will\", \"what'll've\": \"what will have\", \"what're\": \"what are\",  \"what's\": \"what is\", \"what've\": \"what have\", \"when's\": \"when is\", \"when've\": \"when have\", \"where'd\": \"where did\", \"where's\": \"where is\", \"where've\": \"where have\", \"who'll\": \"who will\", \"who'll've\": \"who will have\", \"who's\": \"who is\", \"who've\": \"who have\", \"why's\": \"why is\", \"why've\": \"why have\", \"will've\": \"will have\", \"won't\": \"will not\", \"won't've\": \"will not have\", \"would've\": \"would have\", \"wouldn't\": \"would not\", \"wouldn't've\": \"would not have\", \"y'all\": \"you all\", \"y'all'd\": \"you all would\",\"y'all'd've\": \"you all would have\",\"y'all're\": \"you all are\",\"y'all've\": \"you all have\",\"you'd\": \"you would\", \"you'd've\": \"you would have\", \"you'll\": \"you will\", \"you'll've\": \"you will have\", \"you're\": \"you are\", \"you've\": \"you have\", 'colour': 'color', 'centre': 'center', 'favourite': 'favorite', 'travelling': 'traveling', 'counselling': 'counseling', 'theatre': 'theater', 'cancelled': 'canceled', 'labour': 'labor', 'organisation': 'organization', 'wwii': 'world war 2', 'citicise': 'criticize', 'youtu ': 'youtube ', 'Qoura': 'Quora', 'sallary': 'salary', 'Whta': 'What', 'narcisist': 'narcissist', 'howdo': 'how do', 'whatare': 'what are', 'howcan': 'how can', 'howmuch': 'how much', 'howmany': 'how many', 'whydo': 'why do', 'doI': 'do I', 'theBest': 'the best', 'howdoes': 'how does', 'mastrubation': 'masturbation', 'mastrubate': 'masturbate', \"mastrubating\": 'masturbating', 'pennis': 'penis', 'Etherium': 'Ethereum', 'narcissit': 'narcissist', 'bigdata': 'big data', '2k17': '2017', '2k18': '2018', 'qouta': 'quota', 'exboyfriend': 'ex boyfriend', 'airhostess': 'air hostess', \"whst\": 'what', 'watsapp': 'whatsapp', 'demonitisation': 'demonetization', 'demonitization': 'demonetization', 'demonetisation': 'demonetization'}\n\ndef _get_mispell(mispell_dict):\n    mispell_re = re.compile('(%s)' % '|'.join(mispell_dict.keys()))\n    return mispell_dict, mispell_re\n\nmispellings, mispellings_re = _get_mispell(mispell_dict)\ndef replace_typical_misspell(text):\n    def replace(match):\n        return mispellings[match.group(0)]\n    return mispellings_re.sub(replace, text)\n\ndef process_text(x) :\n    x = clean_text(x)\n    x = clean_numbers(x)\n    x = replace_typical_misspell(x)\n    return x\n\n\"\"\"\ntoxic_words = set(['gay', 'sex', 'sexual', 'sexually', 'fetish', 'pussy', 'pusyy', 'penis'\n               , 'dick', 'nude', 'fuck', 'jerk', 'crazy'\n               , 'insane', 'bastard', 'idiot', 'masturbate', 'naked', 'blowjob', 'cunt'\n                  ])\n\"\"\"\n\ntoxic_words = set(['gay', 'gays', 'sex'\n                   , 'sexual', 'sexually'#제거시저하\n                   , 'fetish', 'pussy', 'penis'\n               , 'dick', 'nude', 'fuck', 'fucked', 'fucking', 'jerk', 'crazy', 'kill'\n               #, 'suck', 'sucked'#추가시저하\n               , 'insane', 'bastard', 'idiot', 'masturbate', 'naked', 'blowjob', 'cunt'\n               , 'stupid'\n                   , 'trump'\n                   , 'rape', 'raped'\n                   , 'indian'#제거시저하\n                   #, 'india'#추가시저하\n                   , 'jew', 'jews'#제거시저하\n                   , 'hate', 'cum'\n                   #, 'muslim', 'muslims'#추가시저하\n                  ])\n\ndef get_toxic_count(x) :\n    count = 0\n    for w in np.unique(np.array(x.split(' '))) :\n        if w in toxic_words :\n            count += 1\n    return count\n\ndef sum_special_chars(x) :\n    math_specials = \"-+*/<>%^=\"\n    tot_len = len(x)\n    for s in math_specials :\n        if s == '^' : s = '\\\\' + s\n        form = str('[' + s + ']{2,}')\n        x = re.sub(form, s, x)\n    return len(re.sub('[^' + math_specials + ']', '', x)) / tot_len\n\nfrom collections import Counter\nfrom nltk import word_tokenize\n\ndef split_word(x):\n    x=str(x)\n    x=word_tokenize(x)\n    return x\n    \ndef fre_count(x):\n    all_word=0\n    all_fre=0\n    for word in x:\n        all_word+=1\n        all_fre+=word_counts[word]\n    return all_word/all_fre",
      "execution_count": 4,
      "outputs": []
    },
    {
      "metadata": {
        "trusted": true,
        "_uuid": "27433196c4d97fb3423d9e55c7571d67fb38f2aa"
      },
      "cell_type": "code",
      "source": "from sklearn.preprocessing import StandardScaler, MinMaxScaler\nfrom dask import bag\n\ndef prepare(df):\n\n    meta = pd.DataFrame()\n    \n    df[\"question_text\"].fillna(value = \"_##_\", inplace = True)\n    df['question_text'] = df['question_text'].progress_apply(lambda x : str(x).lower())\n    \n    meta['math_special_ratio'] = df['question_text'].progress_apply(lambda x : sum_special_chars(x))\n    \n    df[\"question_text\"] = df[\"question_text\"].progress_apply(lambda x: process_text(x))\n    \n    meta['total_length'] = df['question_text'].progress_apply(len)\n    meta['capitals'] = df['question_text'].progress_apply(lambda comment: sum(1 for c in comment if c.isupper()))\n    meta['caps_vs_length'] = meta.progress_apply(lambda row: float(row['capitals'])/float(row['total_length']),axis=1)\n    meta['num_words'] = df.question_text.str.count('\\S+')\n    meta['num_unique_words'] = df['question_text'].progress_apply(lambda comment: len(set(w for w in comment.split())))\n    meta['words_vs_unique'] = meta['num_unique_words'] / meta['num_words']  \n    meta['toxic_count'] = df[\"question_text\"].progress_apply(lambda x: get_toxic_count(x))\n    \n    ################################\n    #df['tokens']=df['question_text'].apply(lambda x: split_word(x))\n    #text = df['tokens'].values\n    #word_counts=Counter()\n    #for s in tqdm(text):\n    #    word_counts.update(s)\n    #meta['fre']=df['tokens'].progress_apply(lambda x: fre_count(x))\n    ###############################\n    \n    meta_cols = ['math_special_ratio', 'caps_vs_length', 'words_vs_unique', 'toxic_count']#, 'fre']#, 'toxic_count']\n    meta = meta[meta_cols].values\n    #meta = StandardScaler().fit_transform(meta)\n    meta = MinMaxScaler().fit_transform(meta)\n    meta = pd.DataFrame(meta, columns = meta_cols)\n\n    sequence = df['question_text'].values\n    \n    # Tokenize sentences\n    tokenizer = Tokenizer(num_words = max_features)\n    tokenizer.fit_on_texts(list(sequence))\n\n    sequence = tokenizer.texts_to_sequences(sequence)\n\n    # Pad sentences \n    sequence = pad_sequences(sequence, maxlen = maxlen)\n\n    return sequence, meta, tokenizer.word_index",
      "execution_count": 5,
      "outputs": []
    },
    {
      "metadata": {
        "_uuid": "173753f0178464d2ba26baf22899884d76d1c83d",
        "scrolled": true,
        "trusted": true
      },
      "cell_type": "code",
      "source": "model_start_time = time.time()\n\ndf_train = pd.read_csv(\"../input/train.csv\")\ndf_test = pd.read_csv(\"../input/test.csv\")\ndf_test['target'] = np.nan\n\ndf = pd.concat([df_train ,df_test], sort = True)\ndf = df.reset_index(drop = True)\n\ntrain_idx = df[~df['target'].isnull()].index.values\ntest_idx = df[df['target'].isnull()].index.values\n\ndel df_train\ndel df_test\ngc.collect()",
      "execution_count": 6,
      "outputs": [
        {
          "output_type": "execute_result",
          "execution_count": 6,
          "data": {
            "text/plain": "11"
          },
          "metadata": {}
        }
      ]
    },
    {
      "metadata": {
        "trusted": true,
        "_uuid": "b01540823683659f2322c27939a5bfc278058760",
        "scrolled": true
      },
      "cell_type": "code",
      "source": "sequence, meta, word_index = prepare(df)\ny = df['target'].values",
      "execution_count": 7,
      "outputs": [
        {
          "output_type": "display_data",
          "data": {
            "text/plain": "HBox(children=(IntProgress(value=0, description='Progress', max=1362492, style=ProgressStyle(description_width…",
            "application/vnd.jupyter.widget-view+json": {
              "version_major": 2,
              "version_minor": 0,
              "model_id": "9ecaf023622e46ea923a9e05be684dd5"
            }
          },
          "metadata": {}
        },
        {
          "output_type": "stream",
          "text": "\n",
          "name": "stdout"
        },
        {
          "output_type": "display_data",
          "data": {
            "text/plain": "HBox(children=(IntProgress(value=0, description='Progress', max=1362492, style=ProgressStyle(description_width…",
            "application/vnd.jupyter.widget-view+json": {
              "version_major": 2,
              "version_minor": 0,
              "model_id": "f842a816606e406283c5068a40637163"
            }
          },
          "metadata": {}
        },
        {
          "output_type": "error",
          "ename": "KeyboardInterrupt",
          "evalue": "",
          "traceback": [
            "\u001b[0;31m---------------------------------------------------------------------------\u001b[0m",
            "\u001b[0;31mKeyboardInterrupt\u001b[0m                         Traceback (most recent call last)",
            "\u001b[0;32m<ipython-input-7-d0544250b43d>\u001b[0m in \u001b[0;36m<module>\u001b[0;34m()\u001b[0m\n\u001b[0;32m----> 1\u001b[0;31m \u001b[0msequence\u001b[0m\u001b[0;34m,\u001b[0m \u001b[0mmeta\u001b[0m\u001b[0;34m,\u001b[0m \u001b[0mword_index\u001b[0m \u001b[0;34m=\u001b[0m \u001b[0mprepare\u001b[0m\u001b[0;34m(\u001b[0m\u001b[0mdf\u001b[0m\u001b[0;34m)\u001b[0m\u001b[0;34m\u001b[0m\u001b[0m\n\u001b[0m\u001b[1;32m      2\u001b[0m \u001b[0my\u001b[0m \u001b[0;34m=\u001b[0m \u001b[0mdf\u001b[0m\u001b[0;34m[\u001b[0m\u001b[0;34m'target'\u001b[0m\u001b[0;34m]\u001b[0m\u001b[0;34m.\u001b[0m\u001b[0mvalues\u001b[0m\u001b[0;34m\u001b[0m\u001b[0m\n",
            "\u001b[0;32m<ipython-input-5-1e187533f55e>\u001b[0m in \u001b[0;36mprepare\u001b[0;34m(df)\u001b[0m\n\u001b[1;32m      9\u001b[0m     \u001b[0mdf\u001b[0m\u001b[0;34m[\u001b[0m\u001b[0;34m'question_text'\u001b[0m\u001b[0;34m]\u001b[0m \u001b[0;34m=\u001b[0m \u001b[0mdf\u001b[0m\u001b[0;34m[\u001b[0m\u001b[0;34m'question_text'\u001b[0m\u001b[0;34m]\u001b[0m\u001b[0;34m.\u001b[0m\u001b[0mprogress_apply\u001b[0m\u001b[0;34m(\u001b[0m\u001b[0;32mlambda\u001b[0m \u001b[0mx\u001b[0m \u001b[0;34m:\u001b[0m \u001b[0mstr\u001b[0m\u001b[0;34m(\u001b[0m\u001b[0mx\u001b[0m\u001b[0;34m)\u001b[0m\u001b[0;34m.\u001b[0m\u001b[0mlower\u001b[0m\u001b[0;34m(\u001b[0m\u001b[0;34m)\u001b[0m\u001b[0;34m)\u001b[0m\u001b[0;34m\u001b[0m\u001b[0m\n\u001b[1;32m     10\u001b[0m \u001b[0;34m\u001b[0m\u001b[0m\n\u001b[0;32m---> 11\u001b[0;31m     \u001b[0mmeta\u001b[0m\u001b[0;34m[\u001b[0m\u001b[0;34m'math_special_ratio'\u001b[0m\u001b[0;34m]\u001b[0m \u001b[0;34m=\u001b[0m \u001b[0mdf\u001b[0m\u001b[0;34m[\u001b[0m\u001b[0;34m'question_text'\u001b[0m\u001b[0;34m]\u001b[0m\u001b[0;34m.\u001b[0m\u001b[0mprogress_apply\u001b[0m\u001b[0;34m(\u001b[0m\u001b[0;32mlambda\u001b[0m \u001b[0mx\u001b[0m \u001b[0;34m:\u001b[0m \u001b[0msum_special_chars\u001b[0m\u001b[0;34m(\u001b[0m\u001b[0mx\u001b[0m\u001b[0;34m)\u001b[0m\u001b[0;34m)\u001b[0m\u001b[0;34m\u001b[0m\u001b[0m\n\u001b[0m\u001b[1;32m     12\u001b[0m \u001b[0;34m\u001b[0m\u001b[0m\n\u001b[1;32m     13\u001b[0m     \u001b[0mdf\u001b[0m\u001b[0;34m[\u001b[0m\u001b[0;34m\"question_text\"\u001b[0m\u001b[0;34m]\u001b[0m \u001b[0;34m=\u001b[0m \u001b[0mdf\u001b[0m\u001b[0;34m[\u001b[0m\u001b[0;34m\"question_text\"\u001b[0m\u001b[0;34m]\u001b[0m\u001b[0;34m.\u001b[0m\u001b[0mprogress_apply\u001b[0m\u001b[0;34m(\u001b[0m\u001b[0;32mlambda\u001b[0m \u001b[0mx\u001b[0m\u001b[0;34m:\u001b[0m \u001b[0mprocess_text\u001b[0m\u001b[0;34m(\u001b[0m\u001b[0mx\u001b[0m\u001b[0;34m)\u001b[0m\u001b[0;34m)\u001b[0m\u001b[0;34m\u001b[0m\u001b[0m\n",
            "\u001b[0;32m/opt/conda/lib/python3.6/site-packages/tqdm/_tqdm.py\u001b[0m in \u001b[0;36minner\u001b[0;34m(df, func, *args, **kwargs)\u001b[0m\n\u001b[1;32m    677\u001b[0m                 \u001b[0;31m# Apply the provided function (in **kwargs)\u001b[0m\u001b[0;34m\u001b[0m\u001b[0;34m\u001b[0m\u001b[0m\n\u001b[1;32m    678\u001b[0m                 \u001b[0;31m# on the df using our wrapper (which provides bar updating)\u001b[0m\u001b[0;34m\u001b[0m\u001b[0;34m\u001b[0m\u001b[0m\n\u001b[0;32m--> 679\u001b[0;31m                 \u001b[0mresult\u001b[0m \u001b[0;34m=\u001b[0m \u001b[0mgetattr\u001b[0m\u001b[0;34m(\u001b[0m\u001b[0mdf\u001b[0m\u001b[0;34m,\u001b[0m \u001b[0mdf_function\u001b[0m\u001b[0;34m)\u001b[0m\u001b[0;34m(\u001b[0m\u001b[0mwrapper\u001b[0m\u001b[0;34m,\u001b[0m \u001b[0;34m**\u001b[0m\u001b[0mkwargs\u001b[0m\u001b[0;34m)\u001b[0m\u001b[0;34m\u001b[0m\u001b[0m\n\u001b[0m\u001b[1;32m    680\u001b[0m \u001b[0;34m\u001b[0m\u001b[0m\n\u001b[1;32m    681\u001b[0m                 \u001b[0;31m# Close bar and return pandas calculation result\u001b[0m\u001b[0;34m\u001b[0m\u001b[0;34m\u001b[0m\u001b[0m\n",
            "\u001b[0;32m/opt/conda/lib/python3.6/site-packages/pandas/core/series.py\u001b[0m in \u001b[0;36mapply\u001b[0;34m(self, func, convert_dtype, args, **kwds)\u001b[0m\n\u001b[1;32m   3192\u001b[0m             \u001b[0;32melse\u001b[0m\u001b[0;34m:\u001b[0m\u001b[0;34m\u001b[0m\u001b[0m\n\u001b[1;32m   3193\u001b[0m                 \u001b[0mvalues\u001b[0m \u001b[0;34m=\u001b[0m \u001b[0mself\u001b[0m\u001b[0;34m.\u001b[0m\u001b[0mastype\u001b[0m\u001b[0;34m(\u001b[0m\u001b[0mobject\u001b[0m\u001b[0;34m)\u001b[0m\u001b[0;34m.\u001b[0m\u001b[0mvalues\u001b[0m\u001b[0;34m\u001b[0m\u001b[0m\n\u001b[0;32m-> 3194\u001b[0;31m                 \u001b[0mmapped\u001b[0m \u001b[0;34m=\u001b[0m \u001b[0mlib\u001b[0m\u001b[0;34m.\u001b[0m\u001b[0mmap_infer\u001b[0m\u001b[0;34m(\u001b[0m\u001b[0mvalues\u001b[0m\u001b[0;34m,\u001b[0m \u001b[0mf\u001b[0m\u001b[0;34m,\u001b[0m \u001b[0mconvert\u001b[0m\u001b[0;34m=\u001b[0m\u001b[0mconvert_dtype\u001b[0m\u001b[0;34m)\u001b[0m\u001b[0;34m\u001b[0m\u001b[0m\n\u001b[0m\u001b[1;32m   3195\u001b[0m \u001b[0;34m\u001b[0m\u001b[0m\n\u001b[1;32m   3196\u001b[0m         \u001b[0;32mif\u001b[0m \u001b[0mlen\u001b[0m\u001b[0;34m(\u001b[0m\u001b[0mmapped\u001b[0m\u001b[0;34m)\u001b[0m \u001b[0;32mand\u001b[0m \u001b[0misinstance\u001b[0m\u001b[0;34m(\u001b[0m\u001b[0mmapped\u001b[0m\u001b[0;34m[\u001b[0m\u001b[0;36m0\u001b[0m\u001b[0;34m]\u001b[0m\u001b[0;34m,\u001b[0m \u001b[0mSeries\u001b[0m\u001b[0;34m)\u001b[0m\u001b[0;34m:\u001b[0m\u001b[0;34m\u001b[0m\u001b[0m\n",
            "\u001b[0;32mpandas/_libs/src/inference.pyx\u001b[0m in \u001b[0;36mpandas._libs.lib.map_infer\u001b[0;34m()\u001b[0m\n",
            "\u001b[0;32m/opt/conda/lib/python3.6/site-packages/tqdm/_tqdm.py\u001b[0m in \u001b[0;36mwrapper\u001b[0;34m(*args, **kwargs)\u001b[0m\n\u001b[1;32m    667\u001b[0m \u001b[0;34m\u001b[0m\u001b[0m\n\u001b[1;32m    668\u001b[0m                 \u001b[0;31m# Define bar updating wrapper\u001b[0m\u001b[0;34m\u001b[0m\u001b[0;34m\u001b[0m\u001b[0m\n\u001b[0;32m--> 669\u001b[0;31m                 \u001b[0;32mdef\u001b[0m \u001b[0mwrapper\u001b[0m\u001b[0;34m(\u001b[0m\u001b[0;34m*\u001b[0m\u001b[0margs\u001b[0m\u001b[0;34m,\u001b[0m \u001b[0;34m**\u001b[0m\u001b[0mkwargs\u001b[0m\u001b[0;34m)\u001b[0m\u001b[0;34m:\u001b[0m\u001b[0;34m\u001b[0m\u001b[0m\n\u001b[0m\u001b[1;32m    670\u001b[0m                     \u001b[0;31m# update tbar correctly\u001b[0m\u001b[0;34m\u001b[0m\u001b[0;34m\u001b[0m\u001b[0m\n\u001b[1;32m    671\u001b[0m                     \u001b[0;31m# it seems `pandas apply` calls `func` twice\u001b[0m\u001b[0;34m\u001b[0m\u001b[0;34m\u001b[0m\u001b[0m\n",
            "\u001b[0;31mKeyboardInterrupt\u001b[0m: "
          ]
        }
      ]
    },
    {
      "metadata": {
        "trusted": true,
        "_uuid": "11e3e0498a9b76cd894303c10e8fe2cdc46eeca0"
      },
      "cell_type": "code",
      "source": "\"\"\"\nfrom multiprocessing import Pool\n\npool = Pool(processes = 2)\n\nglove = pool.map_async(load_glove, word_index)\nparam = pool.map_async(load_para, word_index)\n\nembedding_matrix = np.mean([glove.get(), param.get()], axis = 0)\n\ndel glove\ndel param\npool.close()\ngc.collect()\n\"\"\"\nseed_everything()\n\n#embedding_matrix = np.mean([load_glove(word_index), load_para(word_index), load_fasttext(word_index)], axis = 0)\nembedding_matrix = np.mean([load_glove(word_index), load_para(word_index)], axis = 0)\nembedding_matrix.shape",
      "execution_count": null,
      "outputs": []
    },
    {
      "metadata": {
        "trusted": true,
        "_uuid": "f1115cd5afd2e04cb93bcea02d0f1d29209684ab"
      },
      "cell_type": "code",
      "source": "\"\"\"\n# missing entries in the embedding are set using np.random.normal so we have to seed here too\nseed_everything()\n\nglove_embeddings, g_count = load_glove(word_index)\nparagram_embeddings, p_count = load_para(word_index)\nfasttext_embeddings, f_count = load_fasttext(word_index)\n\nt_count = g_count + p_count + f_count\n\nembedding_matrix = np.zeros(glove_embeddings.shape)\n\nzero_idx = np.where(t_count==0)\nmean_idx = np.where(t_count!=0)\n\nembedding_matrix[zero_idx] = np.mean([glove_embeddings[zero_idx], paragram_embeddings[zero_idx], fasttext_embeddings[zero_idx]], axis=0)\nembedding_matrix[mean_idx] = np.sum([glove_embeddings[mean_idx]*g_count[mean_idx]\n                                    , paragram_embeddings[mean_idx]*p_count[mean_idx]\n                                    , fasttext_embeddings[mean_idx]*f_count[mean_idx]\n                                    ], axis=0) / t_count[mean_idx]\n\n#embedding_matrix = np.mean([glove_embeddings, paragram_embeddings, fasttext_embeddings], axis=0)\n#embedding_matrix = np.mean([glove_embeddings, paragram_embeddings, fasttext_embeddings], axis=0)\n\n# vocab = build_vocab(df['question_text'])\n# add_lower(embedding_matrix, vocab)\ndel glove_embeddings, paragram_embeddings, fasttext_embeddings\ngc.collect()\n\nnp.shape(embedding_matrix)\n\"\"\"",
      "execution_count": null,
      "outputs": []
    },
    {
      "metadata": {
        "trusted": true,
        "_uuid": "76f082d45a200984d9a8bb83fa5f3b49097975ef"
      },
      "cell_type": "code",
      "source": "splits = list(StratifiedKFold(n_splits = n_splits, shuffle = do_shuffle, random_state = SEED).split(train_idx, df.loc[train_idx, 'target']))",
      "execution_count": null,
      "outputs": []
    },
    {
      "metadata": {
        "_uuid": "3c72fcddb4f680879e231c3dbfc0c71e27fc424c",
        "scrolled": true,
        "trusted": true
      },
      "cell_type": "code",
      "source": "x_train = sequence[train_idx]\nx_test = sequence[test_idx]\ny_train = df.loc[train_idx, 'target'].values\nmet_cols = ['caps_vs_length', 'words_vs_unique']\nfeatures = meta.loc[train_idx, met_cols].values\ntest_features = meta.loc[test_idx, met_cols].values",
      "execution_count": null,
      "outputs": []
    },
    {
      "metadata": {
        "_uuid": "9d531a7454923f90d0e7443b1ed1373d008c2e88",
        "scrolled": true,
        "trusted": true
      },
      "cell_type": "code",
      "source": "# code inspired from: https://github.com/anandsaha/pytorch.cyclic.learning.rate/blob/master/cls.py\nclass CyclicLR(object):\n    def __init__(self, optimizer, base_lr=1e-3, max_lr=6e-3,\n                 step_size=2000, mode='triangular', gamma=1.,\n                 scale_fn=None, scale_mode='cycle', last_batch_iteration=-1):\n\n        if not isinstance(optimizer, Optimizer):\n            raise TypeError('{} is not an Optimizer'.format(\n                type(optimizer).__name__))\n        self.optimizer = optimizer\n\n        if isinstance(base_lr, list) or isinstance(base_lr, tuple):\n            if len(base_lr) != len(optimizer.param_groups):\n                raise ValueError(\"expected {} base_lr, got {}\".format(\n                    len(optimizer.param_groups), len(base_lr)))\n            self.base_lrs = list(base_lr)\n        else:\n            self.base_lrs = [base_lr] * len(optimizer.param_groups)\n\n        if isinstance(max_lr, list) or isinstance(max_lr, tuple):\n            if len(max_lr) != len(optimizer.param_groups):\n                raise ValueError(\"expected {} max_lr, got {}\".format(\n                    len(optimizer.param_groups), len(max_lr)))\n            self.max_lrs = list(max_lr)\n        else:\n            self.max_lrs = [max_lr] * len(optimizer.param_groups)\n\n        self.step_size = step_size\n\n        if mode not in ['triangular', 'triangular2', 'exp_range'] \\\n                and scale_fn is None:\n            raise ValueError('mode is invalid and scale_fn is None')\n\n        self.mode = mode\n        self.gamma = gamma\n\n        if scale_fn is None:\n            if self.mode == 'triangular':\n                self.scale_fn = self._triangular_scale_fn\n                self.scale_mode = 'cycle'\n            elif self.mode == 'triangular2':\n                self.scale_fn = self._triangular2_scale_fn\n                self.scale_mode = 'cycle'\n            elif self.mode == 'exp_range':\n                self.scale_fn = self._exp_range_scale_fn\n                self.scale_mode = 'iterations'\n        else:\n            self.scale_fn = scale_fn\n            self.scale_mode = scale_mode\n\n        self.batch_step(last_batch_iteration + 1)\n        self.last_batch_iteration = last_batch_iteration\n\n    def batch_step(self, batch_iteration=None):\n        if batch_iteration is None:\n            batch_iteration = self.last_batch_iteration + 1\n        self.last_batch_iteration = batch_iteration\n        for param_group, lr in zip(self.optimizer.param_groups, self.get_lr()):\n            param_group['lr'] = lr\n\n    def _triangular_scale_fn(self, x):\n        return 1.\n\n    def _triangular2_scale_fn(self, x):\n        return 1 / (2. ** (x - 1))\n\n    def _exp_range_scale_fn(self, x):\n        return self.gamma**(x)\n\n    def get_lr(self):\n        step_size = float(self.step_size)\n        cycle = np.floor(1 + self.last_batch_iteration / (2 * step_size))\n        x = np.abs(self.last_batch_iteration / step_size - 2 * cycle + 1)\n\n        lrs = []\n        param_lrs = zip(self.optimizer.param_groups, self.base_lrs, self.max_lrs)\n        for param_group, base_lr, max_lr in param_lrs:\n            base_height = (max_lr - base_lr) * np.maximum(0, (1 - x))\n            if self.scale_mode == 'cycle':\n                lr = base_lr + base_height * self.scale_fn(cycle)\n            else:\n                lr = base_lr + base_height * self.scale_fn(self.last_batch_iteration)\n            lrs.append(lr)\n        return lrs",
      "execution_count": null,
      "outputs": []
    },
    {
      "metadata": {
        "_uuid": "b8caecb207a12d4a5524fe16e4524b31c7da8bac"
      },
      "cell_type": "markdown",
      "source": "### Model Architecture\n\nBinary LSTM with an attention layer and an additional fully connected layer. Also added extra features taken from a winning kernel of the toxic comments competition. Also using CLR and a capsule Layer. Blended together in concatentation.\n\nInitial idea borrowed from: https://www.kaggle.com/ziliwang/baseline-pytorch-bilstm"
    },
    {
      "metadata": {
        "_uuid": "170b27f66c7e546d8e84c79357d40f86c6b1ec42",
        "scrolled": true,
        "trusted": true
      },
      "cell_type": "code",
      "source": "import torch as t\nimport torch.nn as nn\nimport torch.nn.functional as F\n\nembedding_dim = 300\nembedding_path = '../save/embedding_matrix.npy'  # or False, not use pre-trained-matrix\nuse_pretrained_embedding = True\n\nhidden_size = 60\ngru_len = hidden_size\n\nRoutings = 4 #5\nNum_capsule = 5\nDim_capsule = 5#16\ndropout_p = 0.25\nrate_drop_dense = 0.28\nLR = 0.001\nT_epsilon = 1e-7\nnum_classes = 30\n\nclass Embed_Layer(nn.Module):\n    def __init__(self, embedding_matrix=None, vocab_size=None, embedding_dim=300):\n        super(Embed_Layer, self).__init__()\n        self.encoder = nn.Embedding(vocab_size + 1, embedding_dim)\n        if use_pretrained_embedding:\n            self.encoder.weight.data.copy_(t.from_numpy(embedding_matrix))  # 方法二\n\n    def forward(self, x, dropout_p=0.25):\n        return nn.Dropout(p=dropout_p)(self.encoder(x))\n\n\nclass GRU_Layer(nn.Module):\n    def __init__(self):\n        super(GRU_Layer, self).__init__()\n        self.gru = nn.GRU(input_size=300,\n                          hidden_size=gru_len,\n                          bidirectional=True)\n        '''\n        自己修改GRU里面的激活函数及加dropout和recurrent_dropout\n        如果要使用，把rnn_revised import进来，但好像是使用cpu跑的，比较慢\n       '''\n        # # if you uncomment /*from rnn_revised import * */, uncomment following code aswell\n        # self.gru = RNNHardSigmoid('GRU', input_size=300,\n        #                           hidden_size=gru_len,\n        #                           bidirectional=True)\n\n    # 这步很关键，需要像keras一样用glorot_uniform和orthogonal_uniform初始化参数\n    def init_weights(self):\n        ih = (param.data for name, param in self.named_parameters() if 'weight_ih' in name)\n        hh = (param.data for name, param in self.named_parameters() if 'weight_hh' in name)\n        b = (param.data for name, param in self.named_parameters() if 'bias' in name)\n        for k in ih:\n            nn.init.xavier_uniform_(k)\n        for k in hh:\n            nn.init.orthogonal_(k)\n        for k in b:\n            nn.init.constant_(k, 0)\n\n    def forward(self, x):\n        return self.gru(x)\n\n\n# core caps_layer with squash func\nclass Caps_Layer(nn.Module):\n    def __init__(self, input_dim_capsule=gru_len * 2, num_capsule=Num_capsule, dim_capsule=Dim_capsule, \\\n                 routings=Routings, kernel_size=(9, 1), share_weights=True,\n                 activation='default', **kwargs):\n        super(Caps_Layer, self).__init__(**kwargs)\n\n        self.num_capsule = num_capsule\n        self.dim_capsule = dim_capsule\n        self.routings = routings\n        self.kernel_size = kernel_size  # 暂时没用到\n        self.share_weights = share_weights\n        if activation == 'default':\n            self.activation = self.squash\n        else:\n            self.activation = nn.ReLU(inplace=True)\n\n        if self.share_weights:\n            self.W = nn.Parameter(\n                nn.init.xavier_normal_(t.empty(1, input_dim_capsule, self.num_capsule * self.dim_capsule)))\n        else:\n            self.W = nn.Parameter(\n                t.randn(BATCH_SIZE, input_dim_capsule, self.num_capsule * self.dim_capsule))  # 64即batch_size\n\n    def forward(self, x):\n\n        if self.share_weights:\n            u_hat_vecs = t.matmul(x, self.W)\n        else:\n            print('add later')\n\n        batch_size = x.size(0)\n        input_num_capsule = x.size(1)\n        u_hat_vecs = u_hat_vecs.view((batch_size, input_num_capsule,\n                                      self.num_capsule, self.dim_capsule))\n        u_hat_vecs = u_hat_vecs.permute(0, 2, 1, 3)  # 转成(batch_size,num_capsule,input_num_capsule,dim_capsule)\n        b = t.zeros_like(u_hat_vecs[:, :, :, 0])  # (batch_size,num_capsule,input_num_capsule)\n\n        for i in range(self.routings):\n            b = b.permute(0, 2, 1)\n            c = F.softmax(b, dim=2)\n            c = c.permute(0, 2, 1)\n            b = b.permute(0, 2, 1)\n            outputs = self.activation(t.einsum('bij,bijk->bik', (c, u_hat_vecs)))  # batch matrix multiplication\n            # outputs shape (batch_size, num_capsule, dim_capsule)\n            if i < self.routings - 1:\n                b = t.einsum('bik,bijk->bij', (outputs, u_hat_vecs))  # batch matrix multiplication\n        return outputs  # (batch_size, num_capsule, dim_capsule)\n\n    # text version of squash, slight different from original one\n    def squash(self, x, axis=-1):\n        s_squared_norm = (x ** 2).sum(axis, keepdim=True)\n        scale = t.sqrt(s_squared_norm + T_epsilon)\n        return x / scale\n    \nclass Capsule_Main(nn.Module):\n    def __init__(self, embedding_matrix=None, vocab_size=None):\n        super(Capsule_Main, self).__init__()\n        self.embed_layer = Embed_Layer(embedding_matrix, vocab_size)\n        self.gru_layer = GRU_Layer()\n        # 【重要】初始化GRU权重操作，这一步非常关键，acc上升到0.98，如果用默认的uniform初始化则acc一直在0.5左右\n        # 중요 GRU 가중치 연산을 초기화합니다.이 단계는 매우 중요하며, 0.98으로 증가합니다. 기본 유니폼이 사용되면, acc는 항상 약 0.5입니다.\n        self.gru_layer.init_weights()\n        self.caps_layer = Caps_Layer()\n        self.dense_layer = Dense_Layer()\n\n    def forward(self, content):\n        content1 = self.embed_layer(content)\n        content2, _ = self.gru_layer(\n            content1)  # 这个输出是个tuple，一个output(seq_len, batch_size, num_directions * hidden_size)，一个hn\n        content3 = self.caps_layer(content2)\n        output = self.dense_layer(content3)\n        return output\n\nclass Attention(nn.Module):\n    def __init__(self, feature_dim, step_dim, bias=True, **kwargs):\n        super(Attention, self).__init__(**kwargs)\n        \n        self.supports_masking = True\n\n        self.bias = bias\n        self.feature_dim = feature_dim\n        self.step_dim = step_dim\n        self.features_dim = 0\n        \n        weight = torch.zeros(feature_dim, 1)\n        nn.init.xavier_uniform_(weight)\n        self.weight = nn.Parameter(weight)\n        \n        if bias:\n            self.b = nn.Parameter(torch.zeros(step_dim))\n        \n    def forward(self, x, mask=None):\n        feature_dim = self.feature_dim\n        step_dim = self.step_dim\n\n        eij = torch.mm(\n            x.contiguous().view(-1, feature_dim), \n            self.weight\n        ).view(-1, step_dim)\n        \n        if self.bias:\n            eij = eij + self.b\n            \n        eij = torch.tanh(eij)\n        a = torch.exp(eij)\n        \n        if mask is not None:\n            a = a * mask\n\n        a = a / torch.sum(a, 1, keepdim=True) + 1e-10\n\n        weighted_input = x * torch.unsqueeze(a, -1)\n        return torch.sum(weighted_input, 1)\n    \nclass NeuralNet(nn.Module):\n    def __init__(self):\n        super(NeuralNet, self).__init__()\n        \n        fc_layer = 16\n        fc_layer1 = 16\n\n        self.embedding = nn.Embedding(max_features, embed_size)\n        self.embedding.weight = nn.Parameter(torch.tensor(embedding_matrix, dtype=torch.float32))\n        self.embedding.weight.requires_grad = False\n        \n        self.embedding_dropout = nn.Dropout2d(0.1)\n        self.lstm = nn.LSTM(embed_size, hidden_size, bidirectional=True, batch_first=True)\n        self.gru = nn.GRU(hidden_size * 2, hidden_size, bidirectional=True, batch_first=True)\n\n        self.lstm2 = nn.LSTM(hidden_size * 2, hidden_size, bidirectional=True, batch_first=True)\n\n        self.lstm_attention = Attention(hidden_size * 2, maxlen)\n        self.gru_attention = Attention(hidden_size * 2, maxlen)\n        self.bn = nn.BatchNorm1d(16, momentum=0.5)\n        \n        ############## change\n        #self.linear = nn.Linear(hidden_size*8+3, fc_layer1) #643:80 - 483:60 - 323:40\n        self.linear = nn.Linear(hidden_size*8+1+features.shape[1], fc_layer1) #643:80 - 483:60 - 323:40\n        #############\n        \n        self.relu = nn.ReLU()\n        self.dropout = nn.Dropout(0.1)\n        self.fc = nn.Linear(fc_layer**2,fc_layer)\n        self.out = nn.Linear(fc_layer, 1)\n        self.lincaps = nn.Linear(Num_capsule * Dim_capsule, 1)\n        self.caps_layer = Caps_Layer()\n    \n    def forward(self, x):\n        \n#         Capsule(num_capsule=10, dim_capsule=10, routings=4, share_weights=True)(x)\n\n        h_embedding = self.embedding(x[0])\n        h_embedding = torch.squeeze(\n            self.embedding_dropout(torch.unsqueeze(h_embedding, 0)))\n        \n        h_lstm, _ = self.lstm(h_embedding)\n        h_gru, _ = self.gru(h_lstm)\n\n        ##Capsule Layer        \n        content3 = self.caps_layer(h_gru)\n        content3 = self.dropout(content3)\n        batch_size = content3.size(0)\n        content3 = content3.view(batch_size, -1)\n        content3 = self.relu(self.lincaps(content3))\n\n        ##Attention Layer\n        h_lstm_atten = self.lstm_attention(h_lstm)\n        h_gru_atten = self.gru_attention(h_gru)\n        \n        # global average pooling\n        avg_pool = torch.mean(h_gru, 1)\n        # global max pooling\n        max_pool, _ = torch.max(h_gru, 1)\n        \n        f = torch.tensor(x[1], dtype=torch.float).cuda()\n\n                #[512,160]\n        conc = torch.cat((h_lstm_atten, h_gru_atten,content3, avg_pool, max_pool,f), 1)\n        conc = self.relu(self.linear(conc))\n        conc = self.bn(conc)\n        conc = self.dropout(conc)\n\n        out = self.out(conc)\n        \n        return out\n    \nclass MyDataset(Dataset):\n    def __init__(self,dataset):\n        self.dataset = dataset\n\n    def __getitem__(self, index):\n        data, target = self.dataset[index]\n\n        return data, target, index\n    def __len__(self):\n        return len(self.dataset)\n    \ndef sigmoid(x):\n    return 1 / (1 + np.exp(-x))",
      "execution_count": null,
      "outputs": []
    },
    {
      "metadata": {
        "trusted": true,
        "_uuid": "0c6339acdc14e6688ed47e9f439e81cd7cfca57f"
      },
      "cell_type": "code",
      "source": "# matrix for the out-of-fold predictions\ntrain_preds = np.zeros((len(x_train)))\n# matrix for the predictions on the test set\ntest_preds = np.zeros((len(test_idx)))\n\n# always call this before training for deterministic results\nseed_everything()\n\n# x_test_cuda_f = torch.tensor(x_test_f, dtype=torch.long).cuda()\n# test_f = torch.utils.data.TensorDataset(x_test_cuda_f)\n# test_loader_f = torch.utils.data.DataLoader(test_f, batch_size=batch_size, shuffle=False)\n\nx_test_cuda = torch.tensor(x_test, dtype=torch.long).cuda()\ntest = torch.utils.data.TensorDataset(x_test_cuda)\ntest_loader = torch.utils.data.DataLoader(test, batch_size=batch_size, shuffle=False)\n\navg_losses_f = []\navg_val_losses_f = []",
      "execution_count": null,
      "outputs": []
    },
    {
      "metadata": {
        "_uuid": "2cfdd46b117a11af54ed01f1f9511782e50a00fa",
        "scrolled": false,
        "trusted": true
      },
      "cell_type": "code",
      "source": "for i, (train_idx, valid_idx) in enumerate(splits):    \n    # split data in train / validation according to the KFold indeces\n    # also, convert them to a torch tensor and store them on the GPU (done with .cuda())\n    x_train = np.array(x_train)\n    y_train = np.array(y_train)\n    features = np.array(features)\n\n    x_train_fold = torch.tensor(x_train[train_idx.astype(int)], dtype=torch.long).cuda()\n    y_train_fold = torch.tensor(y_train[train_idx.astype(int), np.newaxis], dtype=torch.float32).cuda()\n    \n    kfold_X_features = features[train_idx.astype(int)]\n    kfold_X_valid_features = features[valid_idx.astype(int)]\n    x_val_fold = torch.tensor(x_train[valid_idx.astype(int)], dtype=torch.long).cuda()\n    y_val_fold = torch.tensor(y_train[valid_idx.astype(int), np.newaxis], dtype=torch.float32).cuda()\n    \n#     model = BiLSTM(lstm_layer=2,hidden_dim=40,dropout=DROPOUT).cuda()\n    model = NeuralNet()\n\n    # make sure everything in the model is running on the GPU\n    model.cuda()\n\n    # define binary cross entropy loss\n    # note that the model returns logit to take advantage of the log-sum-exp trick \n    # for numerical stability in the loss\n    loss_fn = torch.nn.BCEWithLogitsLoss(reduction='sum')\n\n    step_size = 300\n    base_lr, max_lr = 0.001, 0.003   \n    optimizer = torch.optim.Adam(filter(lambda p: p.requires_grad, model.parameters()), \n                             lr=max_lr)\n    \n    ################################################################################################\n    scheduler = CyclicLR(optimizer, base_lr=base_lr, max_lr=max_lr,\n               step_size=step_size, mode='exp_range',\n               gamma=0.99994)\n    ###############################################################################################\n\n    train = torch.utils.data.TensorDataset(x_train_fold, y_train_fold)\n    valid = torch.utils.data.TensorDataset(x_val_fold, y_val_fold)\n    \n    train = MyDataset(train)\n    valid = MyDataset(valid)\n\n    ##No need to shuffle the data again here. Shuffling happens when splitting for kfolds.\n    train_loader = torch.utils.data.DataLoader(train, batch_size=batch_size, shuffle=True)\n    \n    valid_loader = torch.utils.data.DataLoader(valid, batch_size=batch_size, shuffle=False)\n\n    print(f'Fold {i + 1}')\n    for epoch in range(n_epochs):\n        # set train mode of the model. This enables operations which are only applied during training like dropout\n        start_time = time.time()\n        model.train()\n\n        avg_loss = 0.  \n        for i, (x_batch, y_batch, index) in enumerate(train_loader):\n            # Forward pass: compute predicted y by passing x to the model.\n            ################################################################################################            \n            f = kfold_X_features[index]\n            y_pred = model([x_batch,f])\n            ################################################################################################\n\n            ################################################################################################\n\n            if scheduler:\n                scheduler.batch_step()\n            ################################################################################################\n\n            # Compute and print loss.\n            loss = loss_fn(y_pred, y_batch)\n\n            # Before the backward pass, use the optimizer object to zero all of the\n            # gradients for the Tensors it will update (which are the learnable weights\n            # of the model)\n            optimizer.zero_grad()\n\n            # Backward pass: compute gradient of the loss with respect to model parameters\n            loss.backward()\n\n            # Calling the step function on an Optimizer makes an update to its parameters\n            optimizer.step()\n            avg_loss += loss.item() / len(train_loader)\n            \n        # set evaluation mode of the model. This disabled operations which are only applied during training like dropout\n        model.eval()\n        \n        # predict all the samples in y_val_fold batch per batch\n        valid_preds_fold = np.zeros((x_val_fold.size(0)))\n        test_preds_fold = np.zeros((len(test_idx)))\n        \n        avg_val_loss = 0.\n        for i, (x_batch, y_batch, index) in enumerate(valid_loader):\n            f = kfold_X_valid_features[index]\n            y_pred = model([x_batch,f]).detach()\n            \n            avg_val_loss += loss_fn(y_pred, y_batch).item() / len(valid_loader)\n            valid_preds_fold[i * batch_size:(i+1) * batch_size] = sigmoid(y_pred.cpu().numpy())[:, 0]\n        \n        elapsed_time = time.time() - start_time \n        print('Epoch {}/{} \\t loss={:.4f} \\t val_loss={:.4f} \\t time={:.2f}s'.format(\n            epoch + 1, n_epochs, avg_loss, avg_val_loss, elapsed_time))\n        \n    avg_losses_f.append(avg_loss)\n    avg_val_losses_f.append(avg_val_loss) \n    # predict all samples in the test set batch per batch\n    for i, (x_batch,) in enumerate(test_loader):\n        f = test_features[i * batch_size:(i+1) * batch_size]\n        y_pred = model([x_batch,f]).detach()\n\n        test_preds_fold[i * batch_size:(i+1) * batch_size] = sigmoid(y_pred.cpu().numpy())[:, 0]\n        \n    train_preds[valid_idx] = valid_preds_fold\n    test_preds += test_preds_fold / len(splits)\n\nprint('All \\t loss={:.4f} \\t val_loss={:.4f} \\t '.format(np.average(avg_losses_f),np.average(avg_val_losses_f)))",
      "execution_count": null,
      "outputs": []
    },
    {
      "metadata": {
        "_uuid": "1d2187d4bbf48350eaf365b6dd8b027d5be69e0c"
      },
      "cell_type": "markdown",
      "source": "**Find final Thresshold\n\nBorrowed from: https://www.kaggle.com/ziliwang/baseline-pytorch-bilstm**"
    },
    {
      "metadata": {
        "_uuid": "dc4a4c681294ba06526fed4e871cfe8639cf25e4",
        "scrolled": true,
        "trusted": true
      },
      "cell_type": "code",
      "source": "def bestThresshold(y_train,train_preds):\n    tmp = [0,0,0] # idx, cur, max\n    delta = 0\n    for tmp[0] in tqdm(np.arange(0.1, 0.501, 0.01)):\n        tmp[1] = f1_score(y_train, np.array(train_preds)>tmp[0])\n        if tmp[1] > tmp[2]:\n            delta = tmp[0]\n            tmp[2] = tmp[1]\n    print('best threshold is {:.4f} with F1 score: {:.4f}'.format(delta, tmp[2]))\n    return delta\n\ndelta = bestThresshold(y_train,train_preds)\n\n#best threshold is 0.3000 with F1 score: 0.6830",
      "execution_count": null,
      "outputs": []
    },
    {
      "metadata": {
        "trusted": true,
        "_uuid": "c0ed8dcec3df52533b8fbb16b13d5cef001c1c2f"
      },
      "cell_type": "code",
      "source": "\"\"\"\n##count계산\nbest threshold is 0.2900 with F1 score: 0.6815\n\nFold 1\nEpoch 1/3 \t loss=74.8897 \t val_loss=54.1584 \t time=244.85s\nEpoch 2/3 \t loss=57.6608 \t val_loss=51.2587 \t time=244.43s\nEpoch 3/3 \t loss=54.3689 \t val_loss=50.7826 \t time=244.85s\nFold 2\nEpoch 1/3 \t loss=80.1864 \t val_loss=54.0414 \t time=244.67s\nEpoch 2/3 \t loss=57.9196 \t val_loss=51.6270 \t time=244.65s\nEpoch 3/3 \t loss=54.4851 \t val_loss=50.2662 \t time=246.48s\nFold 3\nEpoch 1/3 \t loss=76.4038 \t val_loss=54.2289 \t time=247.37s\nEpoch 2/3 \t loss=57.8797 \t val_loss=51.6206 \t time=246.36s\nEpoch 3/3 \t loss=54.4450 \t val_loss=50.3280 \t time=247.04s\nFold 4\nEpoch 1/3 \t loss=81.7708 \t val_loss=53.1617 \t time=245.96s\nEpoch 2/3 \t loss=58.6129 \t val_loss=51.5268 \t time=245.78s\nEpoch 3/3 \t loss=55.2868 \t val_loss=50.5125 \t time=245.31s\nFold 5\nEpoch 1/3 \t loss=77.4113 \t val_loss=54.3722 \t time=244.51s\nEpoch 2/3 \t loss=57.8157 \t val_loss=51.1276 \t time=244.41s\nEpoch 3/3 \t loss=54.1671 \t val_loss=50.5658 \t time=244.53s\nAll \t loss=54.5506 \t val_loss=50.4910 \t\nbest threshold is 0.2900 with F1 score: 0.6810\n\n\nFold 1\nEpoch 1/3 \t loss=74.7310 \t val_loss=53.6484 \t time=245.93s\nEpoch 2/3 \t loss=57.4564 \t val_loss=51.2697 \t time=246.76s\nEpoch 3/3 \t loss=54.2153 \t val_loss=50.4912 \t time=245.61s\nFold 2\nEpoch 1/3 \t loss=80.9662 \t val_loss=53.6185 \t time=246.22s\nEpoch 2/3 \t loss=58.6888 \t val_loss=52.6013 \t time=245.75s\nEpoch 3/3 \t loss=55.0218 \t val_loss=50.3761 \t time=246.41s\nFold 3\nEpoch 1/3 \t loss=76.2187 \t val_loss=53.2831 \t time=245.22s\nEpoch 2/3 \t loss=57.3645 \t val_loss=51.1700 \t time=245.10s\nEpoch 3/3 \t loss=53.8908 \t val_loss=50.1741 \t time=245.29s\nFold 4\nEpoch 1/3 \t loss=81.0621 \t val_loss=52.8974 \t time=245.06s\nEpoch 2/3 \t loss=57.8553 \t val_loss=51.7153 \t time=244.98s\nEpoch 3/3 \t loss=54.5160 \t val_loss=49.9908 \t time=247.70s\nFold 5\nEpoch 1/3 \t loss=77.0206 \t val_loss=54.5142 \t time=247.62s\nEpoch 2/3 \t loss=57.3196 \t val_loss=50.8046 \t time=246.74s\nEpoch 3/3 \t loss=53.8519 \t val_loss=50.7059 \t time=246.09s\nAll \t loss=54.2992 \t val_loss=50.3476\nHBox(children=(IntProgress(value=0, max=41), HTML(value='')))\nbest threshold is 0.3100 with F1 score: 0.6813\n\"\"\"",
      "execution_count": null,
      "outputs": []
    },
    {
      "metadata": {
        "trusted": true,
        "_uuid": "052719db508457fd56165a162353b0de673e4b47"
      },
      "cell_type": "code",
      "source": "\"\"\"\ndf['tokens']=df['question_text'].progress_apply(lambda x: split_word(x))\ntext = df['tokens'].values\nword_counts=Counter()\nfor s in tqdm(text):\n    word_counts.update(s)\ndf['fre']=df['tokens'].progress_apply(lambda x: fre_count(x))\n\"\"\"",
      "execution_count": null,
      "outputs": []
    },
    {
      "metadata": {
        "trusted": true,
        "_uuid": "e97708ee4ebec1917e1f624e72cea30576d9af99"
      },
      "cell_type": "code",
      "source": "train_idx = df[~df['target'].isnull()].index.values\ntest_idx = df[df['target'].isnull()].index.values\n\ndef get_best_result(y_true, y_pred) :\n    best = [0.0, 0.0]\n    for t in np.arange(0.0, 1.01, 0.01) :\n        score = f1_score(y_true, y_pred>=t)\n        if score > best[1] :\n            best[0] = t\n            best[1] = score\n    return best\n\ndf_pred = pd.DataFrame()\ndf_pred['qid'] = df['qid']\ndf_pred['target'] = df['target']\n#df_pred['fre'] = df['fre']\ndf_pred['toxic_count'] = meta['toxic_count']\ndf_pred.loc[train_idx, 'NN'] = train_preds\ndf_pred.loc[test_idx, 'NN'] = test_preds\n\ndf_pred.head()",
      "execution_count": null,
      "outputs": []
    },
    {
      "metadata": {
        "trusted": true,
        "_uuid": "cf2bd245043986f90ef9c494c6faf848dcad190a"
      },
      "cell_type": "code",
      "source": "embed_vect = []\nfor i in tqdm(range(sequence.shape[0])) :\n    if sequence[i].shape[0] != 0 :\n        embed_vect.append(np.mean(embedding_matrix[sequence[i][sequence[i] != 0]], axis = 0))\n    else :\n        embed_vect.append(embedding_matrix[0])\nembed_vect = np.array(embed_vect)\ndel embedding_matrix\ngc.collect()\n\nfor i in tqdm(range(embed_vect.shape[1])) :\n    embed_vect[np.where(np.isnan(embed_vect[:, i]))] = np.nanmean(embed_vect[:, i])",
      "execution_count": null,
      "outputs": []
    },
    {
      "metadata": {
        "trusted": true,
        "_uuid": "bb60bda3e9ca3643e326488de109b0b52e5d5bf5"
      },
      "cell_type": "code",
      "source": "from sklearn.feature_extraction.text import TfidfVectorizer\n\ntfidf = TfidfVectorizer(min_df = 3, max_features = int(max_features/2.5),\n        strip_accents = 'unicode', analyzer = 'word', token_pattern = r'\\w{1,}',\n        ngram_range = (1, 3), use_idf = 1, smooth_idf = 1, sublinear_tf = 1,\n        stop_words = 'english').fit_transform(list(df['question_text'].values))",
      "execution_count": null,
      "outputs": []
    },
    {
      "metadata": {
        "trusted": true,
        "_uuid": "0fe3a88239c1e7eb221d36ad75b324a47e0a49f0"
      },
      "cell_type": "code",
      "source": "from sklearn.naive_bayes import MultinomialNB\n\nname = 'NB'\ndf_pred[name] = 0.0\nfor i, (trn, val) in enumerate(splits) :\n    print(i, \" fold\")\n    model = MultinomialNB()\n    model.fit(tfidf[trn], y[trn])\n    pred = model.predict_proba(tfidf[val])[:, 1]\n    best = get_best_result(y[val], pred)\n    print(best)\n    df_pred.loc[val, name] = pred\n    df_pred.loc[test_idx, name] += model.predict_proba(tfidf[test_idx])[:, 1] / len(splits)\n    del model\n    gc.collect()\n\ndf_pred.head()",
      "execution_count": null,
      "outputs": []
    },
    {
      "metadata": {
        "trusted": true,
        "_uuid": "7a8d460e85ab4b0264ead834b786ba8a535470bd"
      },
      "cell_type": "code",
      "source": "from sklearn.decomposition import TruncatedSVD\n\ntfidf = TruncatedSVD(n_components = 50).fit_transform(tfidf)\n\nmeta = pd.concat([meta, pd.DataFrame(tfidf, columns = ['tfidf_' + str(i) for i in range(tfidf.shape[1])])], axis = 1)\ndel tfidf\ngc.collect()\n\nembed_vect = TruncatedSVD(n_components = 50).fit_transform(embed_vect)\n\nmeta = pd.concat([meta, pd.DataFrame(embed_vect, columns = ['embedding_' + str(i) for i in range(embed_vect.shape[1])])], axis = 1)\ndel embed_vect\ngc.collect()\n\nmeta.head()",
      "execution_count": null,
      "outputs": []
    },
    {
      "metadata": {
        "trusted": true,
        "scrolled": true,
        "_uuid": "3cfc3733b572be15c5e8037432c3173a07de94ba"
      },
      "cell_type": "code",
      "source": "import lightgbm as lgb\n\nname = 'LGBM'\ndf_pred[name] = 0.0\nfor i, (trn, val) in enumerate(splits) :\n    print(i, \" fold\")\n    model = lgb.LGBMClassifier(\n        n_estimators = 10000\n        , n_jobs = 2\n        , objective = 'binary'\n    )\n    model.fit(meta.loc[trn, :], y[trn], early_stopping_rounds = 50, eval_set =[(meta.loc[val, :], y[val])], verbose = 100)\n    pred = model.predict_proba(meta.loc[val, :])[:, 1]\n    best = get_best_result(y[val], pred)\n    print(best)\n    df_pred.loc[val, name] = pred\n    df_pred.loc[test_idx, name] += model.predict_proba(meta.loc[test_idx, :])[:, 1] / len(splits)\n    del model\n    gc.collect()",
      "execution_count": null,
      "outputs": []
    },
    {
      "metadata": {
        "trusted": true,
        "_uuid": "318f7dc515b4b76d8a8dfb7306009bd1741742c1"
      },
      "cell_type": "code",
      "source": "import lightgbm as lgb\n\nfinal_predict = np.zeros(test_idx.shape[0])\nfinal_threshold = 0.0\nfinal_score = 0.0\ncols = ['NN','NB','LGBM', 'toxic_count']\n#math_special_ratio degrade\n\nfor i, (trn, val) in enumerate(splits) :\n    print(i, \" fold\")\n    model = lgb.LGBMClassifier(\n        n_estimators = 10000\n        , n_jobs = 2\n        , objective = 'binary'\n    )\n    model.fit(df_pred.loc[trn, cols]\n              , df_pred.loc[trn, ['target']]\n              , early_stopping_rounds = 50\n              , eval_set =[(df_pred.loc[val, cols], df_pred.loc[val, ['target']])]\n              , verbose = 20)\n    pred = model.predict_proba(df_pred.loc[val, cols])[:, 1]\n    best = get_best_result(df_pred.loc[val, ['target']], pred)\n    print(best)\n    final_predict += model.predict_proba(df_pred.loc[test_idx, cols])[:, 1] / len(splits)\n    final_threshold += best[0] / len(splits)\n    final_score += best[1] / len(splits)\n    del model\n    gc.collect()\n    \nprint(final_score)",
      "execution_count": null,
      "outputs": []
    },
    {
      "metadata": {
        "trusted": true,
        "_uuid": "5c0368fcfbc8e0f4117ee11d764c238be0719dd1"
      },
      "cell_type": "code",
      "source": "0.6849971827794272#toxic_count",
      "execution_count": null,
      "outputs": []
    },
    {
      "metadata": {
        "_uuid": "d17dd7b0a92ec98134bf8996fd210edaadf7bed6",
        "scrolled": true,
        "trusted": true
      },
      "cell_type": "code",
      "source": "submission = df.loc[test_idx, ['qid']].copy()\n#submission['prediction'] = (test_preds > delta).astype(int)\nsubmission['prediction'] = (final_predict > final_threshold).astype(int)\nsubmission.to_csv('submission.csv', index=False)",
      "execution_count": null,
      "outputs": []
    },
    {
      "metadata": {
        "_uuid": "a1a07a65e47b5dcefaac040f3f633dc077e8f61e",
        "scrolled": true,
        "trusted": true
      },
      "cell_type": "code",
      "source": "!head submission.csv",
      "execution_count": null,
      "outputs": []
    },
    {
      "metadata": {
        "trusted": true,
        "_uuid": "f938d02409fb1409708413232dec64cb96b02caf"
      },
      "cell_type": "code",
      "source": "print(\"total time. \", time.time() - model_start_time)",
      "execution_count": null,
      "outputs": []
    },
    {
      "metadata": {
        "trusted": true,
        "_uuid": "9a5373621c6a94585301a0aacc83429cd58fffd3"
      },
      "cell_type": "code",
      "source": "\"\"\"\nfrom sklearn.linear_model import LogisticRegression\n\nname = 'LR'\ndf_pred[name] = 0.0\nfor i, (trn, val) in enumerate(splits) :\n    print(i, \" fold\")\n    model = LogisticRegression()\n    model.fit(meta.loc[trn, :], y[trn])\n    pred = model.predict_proba(meta.loc[val, :])[:, 1]\n    best = get_best_result(y[val], pred)\n    print(best)\n    df_pred.loc[val, name] = pred\n    df_pred.loc[test_idx, name] += model.predict_proba(meta.loc[test_idx, :])[:, 1] / len(splits)\n    del model\n    gc.collect()\n\"\"\"\n\n\"\"\"\nfrom sklearn.linear_model import LogisticRegression\n\nname = 'LR'\ndf_pred[name] = 0.0\nfor i, (trn, val) in enumerate(splits) :\n    print(i, \" fold\")\n    model = LogisticRegression()\n    model.fit(meta.loc[trn, :], y[trn])\n    pred = model.predict_proba(meta.loc[val, :])[:, 1]\n    best = get_best_result(y[val], pred)\n    print(best)\n    df_pred.loc[val, name] = pred\n    df_pred.loc[test_idx, name] += model.predict_proba(meta.loc[test_idx, :])[:, 1] / len(splits)\n    del model\n    gc.collect()\n    \ntfidf 100 embedding 100\n0  fold\n[0.2, 0.5326298104688403]\n1  fold\n[0.19, 0.5371907196629069]\n2  fold\n[0.21, 0.5287424344317418]\n3  fold\n[0.21, 0.5343449834530631]\n4  fold\n[0.2, 0.5306239866101784]\n\ntfidf 50 embedding 50\n0  fold\n[0.2, 0.5117814877430262]\n1  fold\n[0.21, 0.5152610550920012]\n2  fold\n[0.21, 0.5071864111498259]\n3  fold\n[0.2, 0.5122073270299454]\n4  fold\n[0.2, 0.5110355193418242]\n\ndf_pred.head()\n\"\"\"\n\"\"\"\nfrom sklearn.ensemble import RandomForestClassifier\n\nname = 'RandomForestClassifier'\ndf_pred[name] = 0.0\nfor i, (trn, val) in enumerate(splits) :\n    print(i, \" fold\")\n    model = RandomForestClassifier(n_jobs=2)\n    model.fit(meta.loc[trn, :], y[trn])\n    pred = model.predict_proba(meta.loc[val, :])[:, 1]\n    best = get_best_result(y[val], pred)\n    print(best)\n    df_pred.loc[val, name] = pred\n    df_pred.loc[test_idx, name] += model.predict_proba(meta.loc[test_idx, :])[:, 1] / len(splits)\n    del model\n    gc.collect()\n\"\"\"    \n\"\"\"\n0  fold\n[0.21, 0.45990946459233056]\n1  fold\n\"\"\"\n\"\"\"\nimport xgboost as xgb\n\nname = 'xgboost'\ndf_pred[name] = 0.0\nfor i, (trn, val) in enumerate(splits) :\n    print(i, \" fold\")\n    model = xgb.XGBClassifier(\n        n_estimators=1000\n        , objective = 'binary:logistic'\n        , n_jobs = 2\n        , max_depth = 9\n    )\n    model.fit(meta.loc[trn, :], y[trn], early_stopping_rounds = 10, eval_set =[(meta.loc[val, :], y[val])], verbose = 1)\n    pred = model.predict_proba(meta.loc[val, :])[:, 1]\n    best = get_best_result(y[val], pred)\n    print(best)\n    df_pred.loc[val, name] = pred\n    df_pred.loc[test_idx, name] += model.predict_proba(meta.loc[test_idx, :])[:, 1] / len(splits)\n    del model\n    gc.collect()\n    \n\"\"\"\n\"\"\"\nfrom sklearn.neighbors import KNeighborsClassifier\n\nname = 'KNN'\ndf_pred[name] = 0.0\nfor i, (trn, val) in enumerate(splits) :\n    print(i, \" fold\")\n    model = KNeighborsClassifier()\n    model.fit(meta.loc[trn, :], y[trn])\n    pred = model.predict_proba(meta.loc[val, :])[:, 1]\n    best = get_best_result(y[val], pred)\n    print(best)\n    df_pred.loc[val, name] = pred\n    df_pred.loc[test_idx, name] += model.predict_proba(meta.loc[test_idx, :])[:, 1] / len(splits)\n    del model\n    gc.collect()\n    \ndf_pred.head()\n\"\"\"\n\"\"\"\nfrom sklearn.discriminant_analysis import LinearDiscriminantAnalysis\n\nname = 'LinearDiscriminantAnalysis'\ndf_pred[name] = 0.0\nfor i, (trn, val) in enumerate(splits) :\n    print(i, \" fold\")\n    model = LinearDiscriminantAnalysis()\n    model.fit(meta.loc[trn, :], y[trn])\n    pred = model.predict_proba(meta.loc[val, :])[:, 1]\n    best = get_best_result(y[val], pred)\n    print(best)\n    df_pred.loc[val, name] = pred\n    df_pred.loc[test_idx, name] += model.predict_proba(meta.loc[test_idx, :])[:, 1] / len(splits)\n\"\"\"\n\"\"\"\nembedding only\n0  fold\n[1.0, 0.40651139649864737]\n1  fold\n\"\"\"\n\n\"\"\"\nimport xgboost as xgb\n\nname = 'XGB'\ndf_pred[name] = 0.0\nfor i, (trn, val) in enumerate(splits) :\n    print(i, \" fold\")\n    model = xgb.XGBClassifier(\n        n_estimators = 100\n        , max_depth = 10\n        , n_jobs = 2\n        , objective  = 'binary:logistic'\n        , eval_metric = 'logloss' \n    )\n    model.fit(meta.loc[trn, :], y[trn], early_stopping_rounds = 40, eval_set =[(meta.loc[val, :], y[val])], verbose = 1)\n    pred = model.predict_proba(meta.loc[val, :])[:, 1]\n    best = get_best_result(y[val], pred)\n    print(best)\n    df_pred.loc[val, name] = pred\n    df_pred.loc[test_idx, name] += model.predict_proba(meta.loc[test_idx, :])[:, 1] / len(splits)\n    del model\n    gc.collect()\n    break\n\"\"\"",
      "execution_count": null,
      "outputs": []
    }
  ],
  "metadata": {
    "kernelspec": {
      "display_name": "Python 3",
      "language": "python",
      "name": "python3"
    },
    "language_info": {
      "name": "python",
      "version": "3.6.6",
      "mimetype": "text/x-python",
      "codemirror_mode": {
        "name": "ipython",
        "version": 3
      },
      "pygments_lexer": "ipython3",
      "nbconvert_exporter": "python",
      "file_extension": ".py"
    }
  },
  "nbformat": 4,
  "nbformat_minor": 1
}